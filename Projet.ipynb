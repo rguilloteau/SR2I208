{
 "cells": [
  {
   "cell_type": "markdown",
   "metadata": {},
   "source": [
    "## Transformation de la Database au format csv pour une lecture plus simple des fichiers"
   ]
  },
  {
   "cell_type": "code",
   "execution_count": null,
   "metadata": {},
   "outputs": [],
   "source": [
    "import os\n",
    "import pandas as pd \n",
    "import scipy.io\n",
    "L = [f for f in os.listdir('./Dataset.mat') if f[:6] == 'attack']\n",
    "\n",
    "os.mkdir(\"Dataset.csv\")\n",
    "\n",
    "for el in L :\n",
    "    pd.DataFrame(scipy.io.loadmat('./Dataset.mat/'+el+'')[el[:-4]]).to_csv(\"Dataset.csv/\"+el[:-4]+\".csv\", header = ['Type', 'BSM', 'Identifiant du destinataire', 'Position du récepteur X', 'Position Y du récepteur', 'Position du récepteur Z', 'BSM a été transmis', 'Identifiant émetteur', 'ID BSM', 'Position X émetteur', 'Position Y émetteur', 'Position Z de émetteur', 'Vitesse X de émetteur', 'Vitesse Y de émetteur', 'Vitesse Z de émetteur', 'RSSI du signal reçu', 'Label'])"
   ]
  },
  {
   "cell_type": "code",
   "execution_count": 5,
   "metadata": {},
   "outputs": [
    {
     "data": {
      "text/plain": [
       "['attack2withlabels.mat',\n",
       " 'attack4withlabels.mat',\n",
       " 'attack1withlabels.mat',\n",
       " 'attack16withlabels.mat',\n",
       " 'attack8withlabels.mat']"
      ]
     },
     "execution_count": 5,
     "metadata": {},
     "output_type": "execute_result"
    }
   ],
   "source": [
    "L"
   ]
  },
  {
   "cell_type": "markdown",
   "metadata": {},
   "source": [
    "## Affichage des données"
   ]
  },
  {
   "cell_type": "code",
   "execution_count": null,
   "metadata": {},
   "outputs": [],
   "source": []
  }
 ],
 "metadata": {
  "kernelspec": {
   "display_name": "Python 3",
   "language": "python",
   "name": "python3"
  },
  "language_info": {
   "codemirror_mode": {
    "name": "ipython",
    "version": 3
   },
   "file_extension": ".py",
   "mimetype": "text/x-python",
   "name": "python",
   "nbconvert_exporter": "python",
   "pygments_lexer": "ipython3",
   "version": "3.7.3"
  }
 },
 "nbformat": 4,
 "nbformat_minor": 2
}
