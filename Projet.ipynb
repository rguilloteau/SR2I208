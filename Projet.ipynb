{
 "cells": [
  {
   "cell_type": "code",
   "execution_count": 56,
   "metadata": {},
   "outputs": [],
   "source": [
    "import os\n",
    "import pandas as pd \n",
    "L = [f for f in os.listdir('./Dataset.mat') if f[:6] == 'attack']\n",
    "for el in L :\n",
    "    pd.DataFrame(scipy.io.loadmat('./Dataset.mat/'+el+'')[el[:-4]]).to_csv(\"\"+el[:-4]+\".csv\", header = ['Type', 'BSM', 'Identifiant du destinataire', 'Position du récepteur X', 'Position Y du récepteur', 'Position du récepteur Z', 'BSM a été transmis', 'Identifiant émetteur', 'ID BSM', 'Position X émetteur', 'Position Y émetteur', 'Position Z de émetteur', 'Vitesse X de émetteur', 'Vitesse Y de émetteur', 'Vitesse Z de émetteur', 'RSSI du signal reçu', 'Label'])"
   ]
  },
  {
   "cell_type": "code",
   "execution_count": 54,
   "metadata": {},
   "outputs": [
    {
     "data": {
      "text/plain": [
       "['attack1withlabels.mat',\n",
       " 'attack4withlabels.mat',\n",
       " 'attack16withlabels.mat',\n",
       " 'attack8withlabels.mat',\n",
       " 'attack2withlabels.mat']"
      ]
     },
     "execution_count": 54,
     "metadata": {},
     "output_type": "execute_result"
    }
   ],
   "source": []
  },
  {
   "cell_type": "code",
   "execution_count": null,
   "metadata": {},
   "outputs": [],
   "source": []
  }
 ],
 "metadata": {
  "kernelspec": {
   "display_name": "Python 3",
   "language": "python",
   "name": "python3"
  },
  "language_info": {
   "codemirror_mode": {
    "name": "ipython",
    "version": 3
   },
   "file_extension": ".py",
   "mimetype": "text/x-python",
   "name": "python",
   "nbconvert_exporter": "python",
   "pygments_lexer": "ipython3",
   "version": "3.5.6"
  }
 },
 "nbformat": 4,
 "nbformat_minor": 2
}
